{
 "cells": [
  {
   "cell_type": "markdown",
   "metadata": {},
   "source": [
    "Visualisasi"
   ]
  },
  {
   "cell_type": "code",
   "execution_count": 98,
   "metadata": {},
   "outputs": [
    {
     "data": {
      "text/html": [
       "<h1>Visualisasi Data</h1>"
      ],
      "text/plain": [
       "<IPython.core.display.HTML object>"
      ]
     },
     "metadata": {},
     "output_type": "display_data"
    }
   ],
   "source": [
    "from pandas import *\n",
    "%matplotlib inline\n",
    "import pandas as pd\n",
    "import matplotlib.pyplot as plt\n",
    "import IPython.core.display \n",
    "from IPython.display import Javascript\n",
    "import json\n",
    "from numpy.random import randn\n",
    "from IPython.core.display import display, HTML\n",
    "display(HTML('<h1>Visualisasi Data</h1>'))\n"
   ]
  },
  {
   "cell_type": "code",
   "execution_count": 7,
   "metadata": {},
   "outputs": [],
   "source": [
    "student_data = pd.read_csv('./Documents/mock.csv')"
   ]
  },
  {
   "cell_type": "code",
   "execution_count": 8,
   "metadata": {},
   "outputs": [
    {
     "data": {
      "text/html": [
       "<div>\n",
       "<style scoped>\n",
       "    .dataframe tbody tr th:only-of-type {\n",
       "        vertical-align: middle;\n",
       "    }\n",
       "\n",
       "    .dataframe tbody tr th {\n",
       "        vertical-align: top;\n",
       "    }\n",
       "\n",
       "    .dataframe thead th {\n",
       "        text-align: right;\n",
       "    }\n",
       "</style>\n",
       "<table border=\"1\" class=\"dataframe\">\n",
       "  <thead>\n",
       "    <tr style=\"text-align: right;\">\n",
       "      <th></th>\n",
       "      <th>id</th>\n",
       "      <th>participant_name</th>\n",
       "      <th>site_id</th>\n",
       "      <th>study_id</th>\n",
       "      <th>country_id</th>\n",
       "      <th>country</th>\n",
       "      <th>document</th>\n",
       "      <th>remark</th>\n",
       "      <th>quiz_completion</th>\n",
       "    </tr>\n",
       "  </thead>\n",
       "  <tbody>\n",
       "    <tr>\n",
       "      <th>0</th>\n",
       "      <td>1</td>\n",
       "      <td>Grantley</td>\n",
       "      <td>site1</td>\n",
       "      <td>study3</td>\n",
       "      <td>3</td>\n",
       "      <td>poland</td>\n",
       "      <td>Uploaded</td>\n",
       "      <td>NaN</td>\n",
       "      <td>complete</td>\n",
       "    </tr>\n",
       "    <tr>\n",
       "      <th>1</th>\n",
       "      <td>2</td>\n",
       "      <td>Cati</td>\n",
       "      <td>site2</td>\n",
       "      <td>study5</td>\n",
       "      <td>5</td>\n",
       "      <td>russia</td>\n",
       "      <td>Uploaded</td>\n",
       "      <td>NaN</td>\n",
       "      <td>incomplete</td>\n",
       "    </tr>\n",
       "    <tr>\n",
       "      <th>2</th>\n",
       "      <td>3</td>\n",
       "      <td>Baxy</td>\n",
       "      <td>site3</td>\n",
       "      <td>study5</td>\n",
       "      <td>3</td>\n",
       "      <td>poland</td>\n",
       "      <td>Uploaded</td>\n",
       "      <td>NaN</td>\n",
       "      <td>incomplete</td>\n",
       "    </tr>\n",
       "    <tr>\n",
       "      <th>3</th>\n",
       "      <td>4</td>\n",
       "      <td>Edie</td>\n",
       "      <td>site4</td>\n",
       "      <td>study4</td>\n",
       "      <td>3</td>\n",
       "      <td>poland</td>\n",
       "      <td>Uploaded</td>\n",
       "      <td>NaN</td>\n",
       "      <td>complete</td>\n",
       "    </tr>\n",
       "    <tr>\n",
       "      <th>4</th>\n",
       "      <td>5</td>\n",
       "      <td>Miof mela</td>\n",
       "      <td>site5</td>\n",
       "      <td>study3</td>\n",
       "      <td>1</td>\n",
       "      <td>german</td>\n",
       "      <td>eConsent</td>\n",
       "      <td>Self</td>\n",
       "      <td>complete</td>\n",
       "    </tr>\n",
       "    <tr>\n",
       "      <th>...</th>\n",
       "      <td>...</td>\n",
       "      <td>...</td>\n",
       "      <td>...</td>\n",
       "      <td>...</td>\n",
       "      <td>...</td>\n",
       "      <td>...</td>\n",
       "      <td>...</td>\n",
       "      <td>...</td>\n",
       "      <td>...</td>\n",
       "    </tr>\n",
       "    <tr>\n",
       "      <th>995</th>\n",
       "      <td>996</td>\n",
       "      <td>Maureen</td>\n",
       "      <td>site996</td>\n",
       "      <td>study4</td>\n",
       "      <td>4</td>\n",
       "      <td>uk</td>\n",
       "      <td>Uploaded</td>\n",
       "      <td>NaN</td>\n",
       "      <td>complete</td>\n",
       "    </tr>\n",
       "    <tr>\n",
       "      <th>996</th>\n",
       "      <td>997</td>\n",
       "      <td>Stanton</td>\n",
       "      <td>site997</td>\n",
       "      <td>study5</td>\n",
       "      <td>1</td>\n",
       "      <td>german</td>\n",
       "      <td>Uploaded</td>\n",
       "      <td>NaN</td>\n",
       "      <td>complete</td>\n",
       "    </tr>\n",
       "    <tr>\n",
       "      <th>997</th>\n",
       "      <td>998</td>\n",
       "      <td>Jourdan</td>\n",
       "      <td>site998</td>\n",
       "      <td>study5</td>\n",
       "      <td>2</td>\n",
       "      <td>usa</td>\n",
       "      <td>eConsent</td>\n",
       "      <td>Dual Signature</td>\n",
       "      <td>complete</td>\n",
       "    </tr>\n",
       "    <tr>\n",
       "      <th>998</th>\n",
       "      <td>999</td>\n",
       "      <td>Cash</td>\n",
       "      <td>site999</td>\n",
       "      <td>study5</td>\n",
       "      <td>2</td>\n",
       "      <td>usa</td>\n",
       "      <td>eConsent</td>\n",
       "      <td>Self</td>\n",
       "      <td>incomplete</td>\n",
       "    </tr>\n",
       "    <tr>\n",
       "      <th>999</th>\n",
       "      <td>1000</td>\n",
       "      <td>Veda</td>\n",
       "      <td>site1000</td>\n",
       "      <td>study5</td>\n",
       "      <td>5</td>\n",
       "      <td>russia</td>\n",
       "      <td>eConsent</td>\n",
       "      <td>Dual Signature</td>\n",
       "      <td>incomplete</td>\n",
       "    </tr>\n",
       "  </tbody>\n",
       "</table>\n",
       "<p>1000 rows × 9 columns</p>\n",
       "</div>"
      ],
      "text/plain": [
       "       id participant_name   site_id study_id  country_id country  document  \\\n",
       "0       1         Grantley     site1   study3           3  poland  Uploaded   \n",
       "1       2             Cati     site2   study5           5  russia  Uploaded   \n",
       "2       3             Baxy     site3   study5           3  poland  Uploaded   \n",
       "3       4             Edie     site4   study4           3  poland  Uploaded   \n",
       "4       5        Miof mela     site5   study3           1  german  eConsent   \n",
       "..    ...              ...       ...      ...         ...     ...       ...   \n",
       "995   996          Maureen   site996   study4           4      uk  Uploaded   \n",
       "996   997          Stanton   site997   study5           1  german  Uploaded   \n",
       "997   998          Jourdan   site998   study5           2     usa  eConsent   \n",
       "998   999             Cash   site999   study5           2     usa  eConsent   \n",
       "999  1000             Veda  site1000   study5           5  russia  eConsent   \n",
       "\n",
       "             remark quiz_completion  \n",
       "0               NaN        complete  \n",
       "1               NaN      incomplete  \n",
       "2               NaN      incomplete  \n",
       "3               NaN        complete  \n",
       "4              Self        complete  \n",
       "..              ...             ...  \n",
       "995             NaN        complete  \n",
       "996             NaN        complete  \n",
       "997  Dual Signature        complete  \n",
       "998            Self      incomplete  \n",
       "999  Dual Signature      incomplete  \n",
       "\n",
       "[1000 rows x 9 columns]"
      ]
     },
     "execution_count": 8,
     "metadata": {},
     "output_type": "execute_result"
    }
   ],
   "source": [
    "student_data.head(1000)\n",
    "\n"
   ]
  },
  {
   "cell_type": "code",
   "execution_count": 32,
   "metadata": {},
   "outputs": [
    {
     "data": {
      "application/javascript": [
       "require.config({\n",
       "    paths: {\n",
       "        d3: 'https://d3js.org/d3.v5.min'\n",
       "    }\n",
       "});\n"
      ],
      "text/plain": [
       "<IPython.core.display.Javascript object>"
      ]
     },
     "metadata": {},
     "output_type": "display_data"
    }
   ],
   "source": [
    "%%javascript\n",
    "require.config({\n",
    "    paths: {\n",
    "        d3: 'https://d3js.org/d3.v5.min'\n",
    "    }\n",
    "});"
   ]
  },
  {
   "cell_type": "code",
   "execution_count": null,
   "metadata": {},
   "outputs": [],
   "source": [
    "\n"
   ]
  },
  {
   "cell_type": "code",
   "execution_count": null,
   "metadata": {},
   "outputs": [],
   "source": []
  },
  {
   "cell_type": "code",
   "execution_count": 10,
   "metadata": {},
   "outputs": [
    {
     "data": {
      "text/plain": [
       "Uploaded    505\n",
       "eConsent    495\n",
       "Name: document, dtype: int64"
      ]
     },
     "execution_count": 10,
     "metadata": {},
     "output_type": "execute_result"
    }
   ],
   "source": [
    "student_data[\"document\"].value_counts()"
   ]
  },
  {
   "cell_type": "code",
   "execution_count": 99,
   "metadata": {},
   "outputs": [
    {
     "data": {
      "image/png": "[encoded data removed]",
      "text/plain": [
       "<Figure size 360x360 with 1 Axes>"
      ]
     },
     "metadata": {},
     "output_type": "display_data"
    }
   ],
   "source": [
    "from IPython.core.display import display, HTML\n",
    "df = pd.DataFrame({'Uploaded': [505],\n",
    "                  'eConsent':[495]},\n",
    "                  index=['Uploaded','eConsent'])\n",
    "plot = df.plot.pie(y='Uploaded', figsize=(5, 5))"
   ]
  },
  {
   "cell_type": "code",
   "execution_count": 12,
   "metadata": {},
   "outputs": [
    {
     "data": {
      "text/plain": [
       "Self              175\n",
       "Dual Signature    173\n",
       "Uploaded          147\n",
       "Name: remark, dtype: int64"
      ]
     },
     "execution_count": 12,
     "metadata": {},
     "output_type": "execute_result"
    }
   ],
   "source": [
    "\n",
    "student_data[\"remark\"].value_counts()"
   ]
  },
  {
   "cell_type": "code",
   "execution_count": null,
   "metadata": {
    "pycharm": {
     "name": "#%%\n"
    }
   },
   "outputs": [],
   "source": [
    "\n",
    "       \n",
    "\n",
    "  "
   ]
  },
  {
   "cell_type": "code",
   "execution_count": null,
   "metadata": {
    "pycharm": {
     "name": "#%%\n"
    }
   },
   "outputs": [],
   "source": []
  },
  {
   "cell_type": "code",
   "execution_count": null,
   "metadata": {},
   "outputs": [],
   "source": []
  },
  {
   "cell_type": "code",
   "execution_count": 14,
   "metadata": {},
   "outputs": [
    {
     "data": {
      "text/plain": [
       "german    215\n",
       "usa       208\n",
       "uk        205\n",
       "russia    191\n",
       "poland    181\n",
       "Name: country, dtype: int64"
      ]
     },
     "execution_count": 14,
     "metadata": {},
     "output_type": "execute_result"
    }
   ],
   "source": [
    "student_data[\"country\"].value_counts()"
   ]
  },
  {
   "cell_type": "code",
   "execution_count": 15,
   "metadata": {},
   "outputs": [
    {
     "data": {
      "text/plain": [
       "study2    229\n",
       "study1    219\n",
       "study4    187\n",
       "study5    183\n",
       "study3    182\n",
       "Name: study_id, dtype: int64"
      ]
     },
     "execution_count": 15,
     "metadata": {},
     "output_type": "execute_result"
    }
   ],
   "source": [
    "student_data[\"study_id\"].value_counts()"
   ]
  },
  {
   "cell_type": "code",
   "execution_count": 16,
   "metadata": {},
   "outputs": [
    {
     "data": {
      "text/plain": [
       "complete      510\n",
       "incomplete    490\n",
       "Name: quiz_completion, dtype: int64"
      ]
     },
     "execution_count": 16,
     "metadata": {},
     "output_type": "execute_result"
    }
   ],
   "source": [
    "student_data[\"quiz_completion\"].value_counts()"
   ]
  },
  {
   "cell_type": "code",
   "execution_count": 72,
   "metadata": {},
   "outputs": [
    {
     "data": {
      "text/plain": [
       "<function matplotlib.pyplot.show(*args, **kw)>"
      ]
     },
     "execution_count": 72,
     "metadata": {},
     "output_type": "execute_result"
    },
    {
     "data": {
      "image/png": "[encoded data removed]",
      "text/plain": [
       "<Figure size 432x288 with 1 Axes>"
      ]
     },
     "metadata": {
      "needs_background": "light"
     },
     "output_type": "display_data"
    },
    {
     "data": {
      "text/plain": [
       "<Figure size 432x288 with 0 Axes>"
      ]
     },
     "metadata": {},
     "output_type": "display_data"
    }
   ],
   "source": [
    "labels =['complete','incomplete']\n",
    "values =[510,490]\n",
    "\n",
    "plt.bar(labels,values)\n",
    "\n",
    "plt.figure(figsize=(6,4))\n",
    "\n",
    "\n",
    "plt.show"
   ]
  },
  {
   "cell_type": "code",
   "execution_count": null,
   "metadata": {},
   "outputs": [],
   "source": []
  },
  {
   "cell_type": "code",
   "execution_count": 87,
   "metadata": {},
   "outputs": [
    {
     "data": {
      "text/plain": [
       "Self              175\n",
       "Dual Signature    173\n",
       "Uploaded          147\n",
       "Name: remark, dtype: int64"
      ]
     },
     "execution_count": 87,
     "metadata": {},
     "output_type": "execute_result"
    }
   ],
   "source": [
    "student_data[\"remark\"].value_counts()"
   ]
  },
  {
   "cell_type": "code",
   "execution_count": 88,
   "metadata": {},
   "outputs": [
    {
     "data": {
      "text/plain": [
       "Self               True\n",
       "Dual Signature     True\n",
       "Uploaded          False\n",
       "dtype: bool"
      ]
     },
     "execution_count": 88,
     "metadata": {},
     "output_type": "execute_result"
    }
   ],
   "source": [
    "df.duplicated(keep='last')"
   ]
  },
  {
   "cell_type": "code",
   "execution_count": null,
   "metadata": {},
   "outputs": [],
   "source": []
  },
  {
   "cell_type": "code",
   "execution_count": 100,
   "metadata": {},
   "outputs": [
    {
     "data": {
      "text/plain": [
       "document\n",
       "Uploaded    505\n",
       "eConsent    495\n",
       "dtype: int64"
      ]
     },
     "execution_count": 100,
     "metadata": {},
     "output_type": "execute_result"
    }
   ],
   "source": [
    "student_data.groupby('document').size()"
   ]
  },
  {
   "cell_type": "code",
   "execution_count": 104,
   "metadata": {},
   "outputs": [
    {
     "data": {
      "text/plain": [
       "study_id\n",
       "study1    219\n",
       "study2    229\n",
       "study3    182\n",
       "study4    187\n",
       "study5    183\n",
       "Name: remark, dtype: int64"
      ]
     },
     "execution_count": 104,
     "metadata": {},
     "output_type": "execute_result"
    }
   ],
   "source": [
    "student_data.groupby('study_id')['remark'].size()"
   ]
  },
  {
   "cell_type": "code",
   "execution_count": 105,
   "metadata": {},
   "outputs": [
    {
     "data": {
      "text/plain": [
       "study_id\n",
       "study1    219\n",
       "study2    229\n",
       "study3    182\n",
       "study4    187\n",
       "study5    183\n",
       "Name: document, dtype: int64"
      ]
     },
     "execution_count": 105,
     "metadata": {},
     "output_type": "execute_result"
    }
   ],
   "source": [
    "student_data.groupby('study_id')['document'].size()"
   ]
  },
  {
   "cell_type": "code",
   "execution_count": 115,
   "metadata": {},
   "outputs": [
    {
     "data": {
      "text/html": [
       "<div>\n",
       "<style scoped>\n",
       "    .dataframe tbody tr th:only-of-type {\n",
       "        vertical-align: middle;\n",
       "    }\n",
       "\n",
       "    .dataframe tbody tr th {\n",
       "        vertical-align: top;\n",
       "    }\n",
       "\n",
       "    .dataframe thead th {\n",
       "        text-align: right;\n",
       "    }\n",
       "</style>\n",
       "<table border=\"1\" class=\"dataframe\">\n",
       "  <thead>\n",
       "    <tr style=\"text-align: right;\">\n",
       "      <th></th>\n",
       "      <th>id</th>\n",
       "      <th>participant_name</th>\n",
       "      <th>site_id</th>\n",
       "      <th>study_id</th>\n",
       "      <th>country_id</th>\n",
       "      <th>country</th>\n",
       "      <th>document</th>\n",
       "      <th>remark</th>\n",
       "      <th>quiz_completion</th>\n",
       "    </tr>\n",
       "  </thead>\n",
       "  <tbody>\n",
       "    <tr>\n",
       "      <th>761</th>\n",
       "      <td>762</td>\n",
       "      <td>Sherlock</td>\n",
       "      <td>site762</td>\n",
       "      <td>study4</td>\n",
       "      <td>1</td>\n",
       "      <td>german</td>\n",
       "      <td>eConsent</td>\n",
       "      <td>Dual Signature</td>\n",
       "      <td>complete</td>\n",
       "    </tr>\n",
       "    <tr>\n",
       "      <th>634</th>\n",
       "      <td>635</td>\n",
       "      <td>Jan</td>\n",
       "      <td>site635</td>\n",
       "      <td>study5</td>\n",
       "      <td>1</td>\n",
       "      <td>german</td>\n",
       "      <td>eConsent</td>\n",
       "      <td>Uploaded</td>\n",
       "      <td>incomplete</td>\n",
       "    </tr>\n",
       "    <tr>\n",
       "      <th>169</th>\n",
       "      <td>170</td>\n",
       "      <td>Whitby</td>\n",
       "      <td>site170</td>\n",
       "      <td>study3</td>\n",
       "      <td>1</td>\n",
       "      <td>german</td>\n",
       "      <td>eConsent</td>\n",
       "      <td>Dual Signature</td>\n",
       "      <td>incomplete</td>\n",
       "    </tr>\n",
       "    <tr>\n",
       "      <th>638</th>\n",
       "      <td>639</td>\n",
       "      <td>Bride</td>\n",
       "      <td>site639</td>\n",
       "      <td>study3</td>\n",
       "      <td>1</td>\n",
       "      <td>german</td>\n",
       "      <td>eConsent</td>\n",
       "      <td>Dual Signature</td>\n",
       "      <td>incomplete</td>\n",
       "    </tr>\n",
       "    <tr>\n",
       "      <th>171</th>\n",
       "      <td>172</td>\n",
       "      <td>Alejandro</td>\n",
       "      <td>site172</td>\n",
       "      <td>study1</td>\n",
       "      <td>1</td>\n",
       "      <td>german</td>\n",
       "      <td>Uploaded</td>\n",
       "      <td>NaN</td>\n",
       "      <td>complete</td>\n",
       "    </tr>\n",
       "  </tbody>\n",
       "</table>\n",
       "</div>"
      ],
      "text/plain": [
       "      id participant_name  site_id study_id  country_id country  document  \\\n",
       "761  762         Sherlock  site762   study4           1  german  eConsent   \n",
       "634  635              Jan  site635   study5           1  german  eConsent   \n",
       "169  170           Whitby  site170   study3           1  german  eConsent   \n",
       "638  639            Bride  site639   study3           1  german  eConsent   \n",
       "171  172        Alejandro  site172   study1           1  german  Uploaded   \n",
       "\n",
       "             remark quiz_completion  \n",
       "761  Dual Signature        complete  \n",
       "634        Uploaded      incomplete  \n",
       "169  Dual Signature      incomplete  \n",
       "638  Dual Signature      incomplete  \n",
       "171             NaN        complete  "
      ]
     },
     "execution_count": 115,
     "metadata": {},
     "output_type": "execute_result"
    }
   ],
   "source": [
    "student_data.sort_values(by='country').head()"
   ]
  },
  {
   "cell_type": "code",
   "execution_count": 113,
   "metadata": {
    "pycharm": {
     "name": "#%%\n"
    }
   },
   "outputs": [
    {
     "data": {
      "text/html": [
       "<div>\n",
       "<style scoped>\n",
       "    .dataframe tbody tr th:only-of-type {\n",
       "        vertical-align: middle;\n",
       "    }\n",
       "\n",
       "    .dataframe tbody tr th {\n",
       "        vertical-align: top;\n",
       "    }\n",
       "\n",
       "    .dataframe thead th {\n",
       "        text-align: right;\n",
       "    }\n",
       "</style>\n",
       "<table border=\"1\" class=\"dataframe\">\n",
       "  <thead>\n",
       "    <tr style=\"text-align: right;\">\n",
       "      <th></th>\n",
       "      <th>id</th>\n",
       "      <th>participant_name</th>\n",
       "      <th>site_id</th>\n",
       "      <th>study_id</th>\n",
       "      <th>country_id</th>\n",
       "      <th>country</th>\n",
       "      <th>document</th>\n",
       "      <th>remark</th>\n",
       "      <th>quiz_completion</th>\n",
       "    </tr>\n",
       "  </thead>\n",
       "  <tbody>\n",
       "    <tr>\n",
       "      <th>10</th>\n",
       "      <td>11</td>\n",
       "      <td>Morton</td>\n",
       "      <td>site11</td>\n",
       "      <td>study1</td>\n",
       "      <td>1</td>\n",
       "      <td>german</td>\n",
       "      <td>Uploaded</td>\n",
       "      <td>NaN</td>\n",
       "      <td>incomplete</td>\n",
       "    </tr>\n",
       "    <tr>\n",
       "      <th>18</th>\n",
       "      <td>19</td>\n",
       "      <td>Luci</td>\n",
       "      <td>site19</td>\n",
       "      <td>study1</td>\n",
       "      <td>4</td>\n",
       "      <td>uk</td>\n",
       "      <td>Uploaded</td>\n",
       "      <td>NaN</td>\n",
       "      <td>incomplete</td>\n",
       "    </tr>\n",
       "    <tr>\n",
       "      <th>41</th>\n",
       "      <td>42</td>\n",
       "      <td>Jania</td>\n",
       "      <td>site42</td>\n",
       "      <td>study1</td>\n",
       "      <td>1</td>\n",
       "      <td>german</td>\n",
       "      <td>Uploaded</td>\n",
       "      <td>NaN</td>\n",
       "      <td>incomplete</td>\n",
       "    </tr>\n",
       "    <tr>\n",
       "      <th>58</th>\n",
       "      <td>59</td>\n",
       "      <td>Sybila</td>\n",
       "      <td>site59</td>\n",
       "      <td>study1</td>\n",
       "      <td>5</td>\n",
       "      <td>russia</td>\n",
       "      <td>Uploaded</td>\n",
       "      <td>NaN</td>\n",
       "      <td>incomplete</td>\n",
       "    </tr>\n",
       "    <tr>\n",
       "      <th>61</th>\n",
       "      <td>62</td>\n",
       "      <td>Edgardo</td>\n",
       "      <td>site62</td>\n",
       "      <td>study1</td>\n",
       "      <td>5</td>\n",
       "      <td>russia</td>\n",
       "      <td>Uploaded</td>\n",
       "      <td>NaN</td>\n",
       "      <td>incomplete</td>\n",
       "    </tr>\n",
       "  </tbody>\n",
       "</table>\n",
       "</div>"
      ],
      "text/plain": [
       "    id participant_name site_id study_id  country_id country  document remark  \\\n",
       "10  11           Morton  site11   study1           1  german  Uploaded    NaN   \n",
       "18  19             Luci  site19   study1           4      uk  Uploaded    NaN   \n",
       "41  42            Jania  site42   study1           1  german  Uploaded    NaN   \n",
       "58  59           Sybila  site59   study1           5  russia  Uploaded    NaN   \n",
       "61  62          Edgardo  site62   study1           5  russia  Uploaded    NaN   \n",
       "\n",
       "   quiz_completion  \n",
       "10      incomplete  \n",
       "18      incomplete  \n",
       "41      incomplete  \n",
       "58      incomplete  \n",
       "61      incomplete  "
      ]
     },
     "execution_count": 113,
     "metadata": {},
     "output_type": "execute_result"
    }
   ],
   "source": [
    "student_data.sort_values(by=['study_id', 'document'], ascending=True).head()\n",
    "\n",
    "\n",
    "\n",
    "\n",
    "\n",
    "\n",
    "\n"
   ]
  },
  {
   "cell_type": "code",
   "execution_count": 100,
   "metadata": {},
   "outputs": [
    {
     "data": {
      "text/plain": [
       "<function matplotlib.pyplot.show(*args, **kw)>"
      ]
     },
     "execution_count": 100,
     "metadata": {},
     "output_type": "execute_result"
    },
    {
     "data": {
      "image/png": "[encoded data removed]",
      "text/plain": [
       "<Figure size 432x288 with 1 Axes>"
      ]
     },
     "metadata": {
      "needs_background": "light"
     },
     "output_type": "display_data"
    },
    {
     "data": {
      "text/plain": [
       "<Figure size 432x288 with 0 Axes>"
      ]
     },
     "metadata": {},
     "output_type": "display_data"
    }
   ],
   "source": [
    "from IPython.core.display import display, HTML\n",
    "\n",
    "labels =['german','usa','uk','russia','poland']\n",
    "values =[215,208,205,191,181]\n",
    "\n",
    "plt.bar(labels,values)\n",
    "\n",
    "plt.figure(figsize=(6,4))\n",
    "\n",
    "plt.show\n",
    "\n",
    "\n"
   ]
  },
  {
   "cell_type": "code",
   "execution_count": 12,
   "metadata": {},
   "outputs": [],
   "source": [
    "from pylab import *"
   ]
  },
  {
   "cell_type": "code",
   "execution_count": 101,
   "metadata": {},
   "outputs": [
    {
     "data": {
      "text/plain": [
       "<function matplotlib.pyplot.show(*args, **kw)>"
      ]
     },
     "execution_count": 101,
     "metadata": {},
     "output_type": "execute_result"
    },
    {
     "data": {
      "image/png": "[encoded data removed]",
      "text/plain": [
       "<Figure size 432x288 with 1 Axes>"
      ]
     },
     "metadata": {
      "needs_background": "light"
     },
     "output_type": "display_data"
    },
    {
     "data": {
      "text/plain": [
       "<Figure size 432x288 with 0 Axes>"
      ]
     },
     "metadata": {},
     "output_type": "display_data"
    }
   ],
   "source": [
    "from IPython.core.display import display, HTML\n",
    "labels =['study1','study2','study3','study4','study5']\n",
    "values =[219,229,182,187,183]\n",
    "\n",
    "plt.bar(labels,values)\n",
    "\n",
    "plt.figure(figsize=(6,4))\n",
    "\n",
    "plt.show"
   ]
  },
  {
   "cell_type": "code",
   "execution_count": null,
   "metadata": {},
   "outputs": [],
   "source": []
  },
  {
   "cell_type": "code",
   "execution_count": 16,
   "metadata": {},
   "outputs": [],
   "source": []
  },
  {
   "cell_type": "code",
   "execution_count": null,
   "metadata": {},
   "outputs": [],
   "source": []
  },
  {
   "cell_type": "code",
   "execution_count": null,
   "metadata": {},
   "outputs": [],
   "source": []
  },
  {
   "cell_type": "code",
   "execution_count": null,
   "metadata": {},
   "outputs": [],
   "source": []
  }
 ],
 "metadata": {
  "kernelspec": {
   "display_name": "Python 3",
   "language": "python",
   "name": "python3"
  },
  "language_info": {
   "codemirror_mode": {
    "name": "ipython",
    "version": 3
   },
   "file_extension": ".py",
   "mimetype": "text/x-python",
   "name": "python",
   "nbconvert_exporter": "python",
   "pygments_lexer": "ipython3",
   "version": "3.7.6"
  }
 },
 "nbformat": 4,
 "nbformat_minor": 4
}
